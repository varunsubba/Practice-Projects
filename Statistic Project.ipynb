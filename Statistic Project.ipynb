{
 "cells": [
  {
   "cell_type": "markdown",
   "id": "e15f1e3d",
   "metadata": {},
   "source": [
    "# Project Case Scenario\n",
    "## Project Scenario:\n",
    "You are a Data Scientist with a housing agency in Boston MA, you have been given access to a previous dataset on housing prices derived from the U.S. Census Service to present insights to higher management. Based on your experience in Statistics, what information can you provide them to help with making an informed decision? Upper management will like to get some insight into the following.\n",
    "\n",
    "Is there a significant difference in the median value of houses bounded by the Charles river or not?\n",
    "\n",
    "Is there a difference in median values of houses of each proportion of owner-occupied units built before 1940?\n",
    "\n",
    "Can we conclude that there is no relationship between Nitric oxide concentrations and the proportion of non-retail business acres per town?\n",
    "\n",
    "What is the impact of an additional weighted distance to the five Boston employment centres on the median value of owner-occupied homes?\n",
    "\n",
    "Using the appropriate graphs and charts, generate basic statistics and visualizations that you think will be useful for the upper management to give them important insight given the question they are asking, in your graphs, include an explanation of each statistic. \n",
    "\n",
    "Details regarding the project will be broken down in the next reading sections."
   ]
  },
  {
   "cell_type": "markdown",
   "id": "76d844c3",
   "metadata": {},
   "source": [
    "# Overview of Project Tasks\n",
    "## Final Project:\n",
    "For the project scenario, here is an overview of your tasks. The following reading sections will provide you with detailed instructions for each task.\n",
    "\n",
    "## Project Tasks:\n",
    "\n",
    "## Task 1:\n",
    "Familiarize yourself with the dataset \n",
    "\n",
    "## Task 2: \n",
    "(Optional) If you do not already have an instance of Watson Studio, create an IBM Cloud Lite account and provision an instance of Waston Studio.\n",
    "\n",
    "## Task 3: \n",
    "Load the dataset in a Jupyter Notebook using Watson Studio.\n",
    "\n",
    "## Task 4: \n",
    "Generate basic statistics and visualizations for upper management. \n",
    "\n",
    "## Task 5: \n",
    "Use the appropriate tests to answer the questions provided.\n",
    "\n",
    "## Task 6:\n",
    "Share your Jupyter Notebook.\n",
    "\n",
    " This project is worth 15% of your final grade. Detailed instructions for each of these tasks follow."
   ]
  },
  {
   "cell_type": "markdown",
   "id": "741fd749",
   "metadata": {},
   "source": [
    "# Task 1: Become familiar with the dataset\n",
    "The following describes the dataset variables:\n",
    "\n",
    "·      CRIM - per capita crime rate by town\n",
    "\n",
    "·      ZN - proportion of residential land zoned for lots over 25,000 sq.ft.\n",
    "\n",
    "·      INDUS - proportion of non-retail business acres per town.\n",
    "\n",
    "·      CHAS - Charles River dummy variable (1 if tract bounds river; 0 otherwise)\n",
    "\n",
    "·      NOX - nitric oxides concentration (parts per 10 million)\n",
    "\n",
    "·      RM - average number of rooms per dwelling\n",
    "\n",
    "·      AGE - proportion of owner-occupied units built prior to 1940\n",
    "\n",
    "·      DIS - weighted distances to five Boston employment centres\n",
    "\n",
    "·      RAD - index of accessibility to radial highways\n",
    "\n",
    "·      TAX - full-value property-tax rate per $10,000\n",
    "\n",
    "·      PTRATIO - pupil-teacher ratio by town\n",
    "\n",
    "·      LSTAT - % lower status of the population\n",
    "\n",
    "·      MEDV - Median value of owner-occupied homes in $1000's"
   ]
  },
  {
   "cell_type": "markdown",
   "id": "261b61fa",
   "metadata": {},
   "source": [
    "# Task 2: Create or Login into IBM cloud to use Watson Studio.\n",
    "For this project, you will be required to use Watson studio and at the end of the project, you will share a link to your Jupyter notebook in your Watson Studio project for a peer review. \n",
    "\n",
    "If you already have an IBM Cloud account and an instance of Watson Studio with a Jupyter Notebook Project, please skip ahead to the next task.\n",
    "\n",
    "Step1:  If you don't have IBM cloud, please use the instructions found to create an account and use Watson Studio. If you already have an account, sign-in \n",
    "\n",
    "Step 2: Use the instructions found to create a Project in Watson studio, and create a Jupyter Notebook that you will utilize in the following tasks."
   ]
  },
  {
   "cell_type": "markdown",
   "id": "3dedb209",
   "metadata": {},
   "source": [
    "# Task 3: Load in the Dataset in your Jupyter Notebook\n",
    "In the Jupyter notebook you created in the previous task, add a code cell, and copy the contents below to load the Boston housing dataset in the notebook:"
   ]
  },
  {
   "cell_type": "code",
   "execution_count": null,
   "id": "976c71ea",
   "metadata": {},
   "outputs": [],
   "source": [
    "boston_url = 'https://cf-courses-data.s3.us.cloud-object-storage.appdomain.cloud/IBMDeveloperSkillsNetwork-ST0151EN-SkillsNetwork/labs/boston_housing.csv'\n",
    "boston_df=pd.read_csv(boston_url)"
   ]
  },
  {
   "cell_type": "markdown",
   "id": "6545b882",
   "metadata": {},
   "source": [
    "# Task 4: Generate Descriptive Statistics and Visualizations\n",
    "For all visualizations, please include a title in each graph and appropriate labels\n",
    "\n",
    "Generate the following and explain your findings:\n",
    "\n",
    "--For the \"Median value of owner-occupied homes\" provide a boxplot\n",
    "\n",
    "--Provide a  histogram for the Charles river variable\n",
    "\n",
    "--Provide a boxplot for the MEDV variable vs the AGE variable. (Discretize the age variable into three groups of 35 years and younger, between 35 and 70 years and 70 years and older)\n",
    "\n",
    "--Provide a scatter plot to show the relationship between Nitric oxide concentrations and the proportion of non-retail business acres per town. What can you say about the relationship?\n",
    "\n",
    "--Create a histogram for the pupil to teacher ratio variable"
   ]
  },
  {
   "cell_type": "markdown",
   "id": "0a5516fc",
   "metadata": {},
   "source": [
    "# Task 5: Use the appropriate tests to answer the questions provided.\n",
    "For each of the following questions;\n",
    "\n",
    "--Is there a significant difference in median value of houses bounded by the Charles river or not? (T-test for independent samples)\n",
    "\n",
    "--Is there a difference in Median values of houses (MEDV) for each proportion of owner occupied units built prior to 1940 (AGE)? (ANOVA)\n",
    "\n",
    "--Can we conclude that there is no relationship between Nitric oxide concentrations and proportion of non-retail business acres per town? (Pearson Correlation)\n",
    "\n",
    "--What is the impact of an additional weighted distance  to the five Boston employment centres on the median value of owner occupied homes? (Regression analysis)\n",
    "\n",
    "Be sure to:\n",
    "\n",
    "1.State your hypothesis.\n",
    "\n",
    "2.Use α = 0.05\n",
    "\n",
    "3.Perform the test Statistics.\n",
    "\n",
    "4.State the conclusion from the test."
   ]
  },
  {
   "cell_type": "code",
   "execution_count": null,
   "id": "1db30fa1",
   "metadata": {},
   "outputs": [],
   "source": []
  }
 ],
 "metadata": {
  "kernelspec": {
   "display_name": "Python 3 (ipykernel)",
   "language": "python",
   "name": "python3"
  },
  "language_info": {
   "codemirror_mode": {
    "name": "ipython",
    "version": 3
   },
   "file_extension": ".py",
   "mimetype": "text/x-python",
   "name": "python",
   "nbconvert_exporter": "python",
   "pygments_lexer": "ipython3",
   "version": "3.9.7"
  }
 },
 "nbformat": 4,
 "nbformat_minor": 5
}
